{
  "nbformat": 4,
  "nbformat_minor": 0,
  "metadata": {
    "colab": {
      "name": "Testing area code.ipynb",
      "provenance": [],
      "include_colab_link": true
    },
    "kernelspec": {
      "name": "python3",
      "display_name": "Python 3"
    }
  },
  "cells": [
    {
      "cell_type": "markdown",
      "metadata": {
        "id": "view-in-github",
        "colab_type": "text"
      },
      "source": [
        "<a href=\"https://colab.research.google.com/github/carmen-chan/A2/blob/master/Testing_area_code.ipynb\" target=\"_parent\"><img src=\"https://colab.research.google.com/assets/colab-badge.svg\" alt=\"Open In Colab\"/></a>"
      ]
    },
    {
      "cell_type": "code",
      "metadata": {
        "id": "gRbnyVHBobLO",
        "colab_type": "code",
        "outputId": "428d2420-39f4-4bfe-ba45-c9b881be65d1",
        "colab": {
          "base_uri": "https://localhost:8080/",
          "height": 374
        }
      },
      "source": [
        "##Importing packages\n",
        "import pandas as pd\n",
        "import numpy as np\n",
        "import matplotlib.pyplot as plt\n",
        "%matplotlib inline\n",
        "\n",
        "## Import dataset from Github repository \n",
        "url = 'https://raw.githubusercontent.com/carmen-chan/A2/master/WA_Fn-UseC_-Telco-Customer-Churn.csv'\n",
        "telco = pd.read_csv(url, error_bad_lines=False)\n",
        "\n",
        "# Check column names \n",
        "list(telco.head())"
      ],
      "execution_count": 0,
      "outputs": [
        {
          "output_type": "execute_result",
          "data": {
            "text/plain": [
              "['customerID',\n",
              " 'gender',\n",
              " 'SeniorCitizen',\n",
              " 'Partner',\n",
              " 'Dependents',\n",
              " 'tenure',\n",
              " 'PhoneService',\n",
              " 'MultipleLines',\n",
              " 'InternetService',\n",
              " 'OnlineSecurity',\n",
              " 'OnlineBackup',\n",
              " 'DeviceProtection',\n",
              " 'TechSupport',\n",
              " 'StreamingTV',\n",
              " 'StreamingMovies',\n",
              " 'Contract',\n",
              " 'PaperlessBilling',\n",
              " 'PaymentMethod',\n",
              " 'MonthlyCharges',\n",
              " 'TotalCharges',\n",
              " 'Churn']"
            ]
          },
          "metadata": {
            "tags": []
          },
          "execution_count": 83
        }
      ]
    },
    {
      "cell_type": "code",
      "metadata": {
        "id": "e0CbexIlB36X",
        "colab_type": "code",
        "outputId": "eb1b01a5-8df5-45ad-9262-75a12ff0ce21",
        "colab": {
          "base_uri": "https://localhost:8080/",
          "height": 433
        }
      },
      "source": [
        "## Examining the first five rows of data\n",
        "print(telco.head())\n",
        "\n",
        "## For numeric attributes find the general mathematic summarising data\n",
        "telco.describe()\n",
        "\n"
      ],
      "execution_count": 0,
      "outputs": [
        {
          "output_type": "stream",
          "text": [
            "   customerID  gender  SeniorCitizen  ... MonthlyCharges TotalCharges  Churn\n",
            "0  7590-VHVEG  Female              0  ...          29.85        29.85     No\n",
            "1  5575-GNVDE    Male              0  ...          56.95       1889.5     No\n",
            "2  3668-QPYBK    Male              0  ...          53.85       108.15    Yes\n",
            "3  7795-CFOCW    Male              0  ...          42.30      1840.75     No\n",
            "4  9237-HQITU  Female              0  ...          70.70       151.65    Yes\n",
            "\n",
            "[5 rows x 21 columns]\n"
          ],
          "name": "stdout"
        },
        {
          "output_type": "execute_result",
          "data": {
            "text/html": [
              "<div>\n",
              "<style scoped>\n",
              "    .dataframe tbody tr th:only-of-type {\n",
              "        vertical-align: middle;\n",
              "    }\n",
              "\n",
              "    .dataframe tbody tr th {\n",
              "        vertical-align: top;\n",
              "    }\n",
              "\n",
              "    .dataframe thead th {\n",
              "        text-align: right;\n",
              "    }\n",
              "</style>\n",
              "<table border=\"1\" class=\"dataframe\">\n",
              "  <thead>\n",
              "    <tr style=\"text-align: right;\">\n",
              "      <th></th>\n",
              "      <th>SeniorCitizen</th>\n",
              "      <th>tenure</th>\n",
              "      <th>MonthlyCharges</th>\n",
              "    </tr>\n",
              "  </thead>\n",
              "  <tbody>\n",
              "    <tr>\n",
              "      <th>count</th>\n",
              "      <td>7043.000000</td>\n",
              "      <td>7043.000000</td>\n",
              "      <td>7043.000000</td>\n",
              "    </tr>\n",
              "    <tr>\n",
              "      <th>mean</th>\n",
              "      <td>0.162147</td>\n",
              "      <td>32.371149</td>\n",
              "      <td>64.761692</td>\n",
              "    </tr>\n",
              "    <tr>\n",
              "      <th>std</th>\n",
              "      <td>0.368612</td>\n",
              "      <td>24.559481</td>\n",
              "      <td>30.090047</td>\n",
              "    </tr>\n",
              "    <tr>\n",
              "      <th>min</th>\n",
              "      <td>0.000000</td>\n",
              "      <td>0.000000</td>\n",
              "      <td>18.250000</td>\n",
              "    </tr>\n",
              "    <tr>\n",
              "      <th>25%</th>\n",
              "      <td>0.000000</td>\n",
              "      <td>9.000000</td>\n",
              "      <td>35.500000</td>\n",
              "    </tr>\n",
              "    <tr>\n",
              "      <th>50%</th>\n",
              "      <td>0.000000</td>\n",
              "      <td>29.000000</td>\n",
              "      <td>70.350000</td>\n",
              "    </tr>\n",
              "    <tr>\n",
              "      <th>75%</th>\n",
              "      <td>0.000000</td>\n",
              "      <td>55.000000</td>\n",
              "      <td>89.850000</td>\n",
              "    </tr>\n",
              "    <tr>\n",
              "      <th>max</th>\n",
              "      <td>1.000000</td>\n",
              "      <td>72.000000</td>\n",
              "      <td>118.750000</td>\n",
              "    </tr>\n",
              "  </tbody>\n",
              "</table>\n",
              "</div>"
            ],
            "text/plain": [
              "       SeniorCitizen       tenure  MonthlyCharges\n",
              "count    7043.000000  7043.000000     7043.000000\n",
              "mean        0.162147    32.371149       64.761692\n",
              "std         0.368612    24.559481       30.090047\n",
              "min         0.000000     0.000000       18.250000\n",
              "25%         0.000000     9.000000       35.500000\n",
              "50%         0.000000    29.000000       70.350000\n",
              "75%         0.000000    55.000000       89.850000\n",
              "max         1.000000    72.000000      118.750000"
            ]
          },
          "metadata": {
            "tags": []
          },
          "execution_count": 27
        }
      ]
    },
    {
      "cell_type": "code",
      "metadata": {
        "id": "o2-C9_EtQvqx",
        "colab_type": "code",
        "colab": {}
      },
      "source": [
        "## Renaming Columns\n",
        "\n",
        "telco.columns = ['CustomerID', 'Gender', 'SeniorCitizen', 'Partner','Dependents', 'TenureMonths',  'PhoneService',  'MultipleLines',  'InternetService',  'OnlineSecurity', 'OnlineBackup', 'DeviceProtection', 'TechSupport', 'StreamingTV', 'StreamingMovies', 'ContractTerm', 'PaperlessBilling', 'PaymentMethod', 'MonthlyCharges', 'TotalCharges', 'MonthlyChurn']"
      ],
      "execution_count": 0,
      "outputs": []
    },
    {
      "cell_type": "code",
      "metadata": {
        "id": "fXcYQKCCYf1G",
        "colab_type": "code",
        "outputId": "8ac23b55-31e2-46a6-c8d3-46d0cb0e2081",
        "colab": {
          "base_uri": "https://localhost:8080/",
          "height": 391
        }
      },
      "source": [
        "telco.dtypes"
      ],
      "execution_count": 0,
      "outputs": [
        {
          "output_type": "execute_result",
          "data": {
            "text/plain": [
              "CustomerID           object\n",
              "Gender               object\n",
              "SeniorCitizen         int64\n",
              "Partner              object\n",
              "Dependents           object\n",
              "TenureMonths          int64\n",
              "PhoneService         object\n",
              "MultipleLines        object\n",
              "InternetService      object\n",
              "OnlineSecurity       object\n",
              "OnlineBackup         object\n",
              "DeviceProtection     object\n",
              "TechSupport          object\n",
              "StreamingTV          object\n",
              "StreamingMovies      object\n",
              "ContractTerm         object\n",
              "PaperlessBilling     object\n",
              "PaymentMethod        object\n",
              "MonthlyCharges      float64\n",
              "TotalCharges         object\n",
              "MonthlyChurn         object\n",
              "dtype: object"
            ]
          },
          "metadata": {
            "tags": []
          },
          "execution_count": 29
        }
      ]
    },
    {
      "cell_type": "markdown",
      "metadata": {
        "id": "X9GFVByTQAUa",
        "colab_type": "text"
      },
      "source": [
        "Data cleaning"
      ]
    },
    {
      "cell_type": "code",
      "metadata": {
        "id": "mhaj2dO245G9",
        "colab_type": "code",
        "colab": {}
      },
      "source": [
        "telco = telco.apply(LabelEncoder().fit_transform)"
      ],
      "execution_count": 0,
      "outputs": []
    },
    {
      "cell_type": "code",
      "metadata": {
        "id": "cKSsWFtiv9nH",
        "colab_type": "code",
        "outputId": "6916a953-907a-4ef7-fb1b-414dca80c32b",
        "colab": {
          "base_uri": "https://localhost:8080/",
          "height": 317
        }
      },
      "source": [
        "telco.describe()\n"
      ],
      "execution_count": 0,
      "outputs": [
        {
          "output_type": "execute_result",
          "data": {
            "text/html": [
              "<div>\n",
              "<style scoped>\n",
              "    .dataframe tbody tr th:only-of-type {\n",
              "        vertical-align: middle;\n",
              "    }\n",
              "\n",
              "    .dataframe tbody tr th {\n",
              "        vertical-align: top;\n",
              "    }\n",
              "\n",
              "    .dataframe thead th {\n",
              "        text-align: right;\n",
              "    }\n",
              "</style>\n",
              "<table border=\"1\" class=\"dataframe\">\n",
              "  <thead>\n",
              "    <tr style=\"text-align: right;\">\n",
              "      <th></th>\n",
              "      <th>CustomerID</th>\n",
              "      <th>Gender</th>\n",
              "      <th>SeniorCitizen</th>\n",
              "      <th>Partner</th>\n",
              "      <th>Dependents</th>\n",
              "      <th>TenureMonths</th>\n",
              "      <th>PhoneService</th>\n",
              "      <th>MultipleLines</th>\n",
              "      <th>InternetService</th>\n",
              "      <th>OnlineSecurity</th>\n",
              "      <th>OnlineBackup</th>\n",
              "      <th>DeviceProtection</th>\n",
              "      <th>TechSupport</th>\n",
              "      <th>StreamingTV</th>\n",
              "      <th>StreamingMovies</th>\n",
              "      <th>ContractTerm</th>\n",
              "      <th>PaperlessBilling</th>\n",
              "      <th>PaymentMethod</th>\n",
              "      <th>MonthlyCharges</th>\n",
              "      <th>TotalCharges</th>\n",
              "      <th>MonthlyChurn</th>\n",
              "    </tr>\n",
              "  </thead>\n",
              "  <tbody>\n",
              "    <tr>\n",
              "      <th>count</th>\n",
              "      <td>7043.000000</td>\n",
              "      <td>7043.000000</td>\n",
              "      <td>7043.000000</td>\n",
              "      <td>7043.000000</td>\n",
              "      <td>7043.000000</td>\n",
              "      <td>7043.000000</td>\n",
              "      <td>7043.000000</td>\n",
              "      <td>7043.000000</td>\n",
              "      <td>7043.000000</td>\n",
              "      <td>7043.000000</td>\n",
              "      <td>7043.000000</td>\n",
              "      <td>7043.000000</td>\n",
              "      <td>7043.000000</td>\n",
              "      <td>7043.000000</td>\n",
              "      <td>7043.000000</td>\n",
              "      <td>7043.000000</td>\n",
              "      <td>7043.000000</td>\n",
              "      <td>7043.000000</td>\n",
              "      <td>7043.000000</td>\n",
              "      <td>7043.000000</td>\n",
              "      <td>7043.000000</td>\n",
              "    </tr>\n",
              "    <tr>\n",
              "      <th>mean</th>\n",
              "      <td>3521.000000</td>\n",
              "      <td>0.504756</td>\n",
              "      <td>0.162147</td>\n",
              "      <td>0.483033</td>\n",
              "      <td>0.299588</td>\n",
              "      <td>32.371149</td>\n",
              "      <td>0.903166</td>\n",
              "      <td>0.940508</td>\n",
              "      <td>0.872923</td>\n",
              "      <td>0.790004</td>\n",
              "      <td>0.906432</td>\n",
              "      <td>0.904444</td>\n",
              "      <td>0.797104</td>\n",
              "      <td>0.985376</td>\n",
              "      <td>0.992475</td>\n",
              "      <td>0.690473</td>\n",
              "      <td>0.592219</td>\n",
              "      <td>1.574329</td>\n",
              "      <td>683.524776</td>\n",
              "      <td>3257.794122</td>\n",
              "      <td>0.265370</td>\n",
              "    </tr>\n",
              "    <tr>\n",
              "      <th>std</th>\n",
              "      <td>2033.283305</td>\n",
              "      <td>0.500013</td>\n",
              "      <td>0.368612</td>\n",
              "      <td>0.499748</td>\n",
              "      <td>0.458110</td>\n",
              "      <td>24.559481</td>\n",
              "      <td>0.295752</td>\n",
              "      <td>0.948554</td>\n",
              "      <td>0.737796</td>\n",
              "      <td>0.859848</td>\n",
              "      <td>0.880162</td>\n",
              "      <td>0.879949</td>\n",
              "      <td>0.861551</td>\n",
              "      <td>0.885002</td>\n",
              "      <td>0.885091</td>\n",
              "      <td>0.833755</td>\n",
              "      <td>0.491457</td>\n",
              "      <td>1.068104</td>\n",
              "      <td>478.511521</td>\n",
              "      <td>1888.693496</td>\n",
              "      <td>0.441561</td>\n",
              "    </tr>\n",
              "    <tr>\n",
              "      <th>min</th>\n",
              "      <td>0.000000</td>\n",
              "      <td>0.000000</td>\n",
              "      <td>0.000000</td>\n",
              "      <td>0.000000</td>\n",
              "      <td>0.000000</td>\n",
              "      <td>0.000000</td>\n",
              "      <td>0.000000</td>\n",
              "      <td>0.000000</td>\n",
              "      <td>0.000000</td>\n",
              "      <td>0.000000</td>\n",
              "      <td>0.000000</td>\n",
              "      <td>0.000000</td>\n",
              "      <td>0.000000</td>\n",
              "      <td>0.000000</td>\n",
              "      <td>0.000000</td>\n",
              "      <td>0.000000</td>\n",
              "      <td>0.000000</td>\n",
              "      <td>0.000000</td>\n",
              "      <td>0.000000</td>\n",
              "      <td>0.000000</td>\n",
              "      <td>0.000000</td>\n",
              "    </tr>\n",
              "    <tr>\n",
              "      <th>25%</th>\n",
              "      <td>1760.500000</td>\n",
              "      <td>0.000000</td>\n",
              "      <td>0.000000</td>\n",
              "      <td>0.000000</td>\n",
              "      <td>0.000000</td>\n",
              "      <td>9.000000</td>\n",
              "      <td>1.000000</td>\n",
              "      <td>0.000000</td>\n",
              "      <td>0.000000</td>\n",
              "      <td>0.000000</td>\n",
              "      <td>0.000000</td>\n",
              "      <td>0.000000</td>\n",
              "      <td>0.000000</td>\n",
              "      <td>0.000000</td>\n",
              "      <td>0.000000</td>\n",
              "      <td>0.000000</td>\n",
              "      <td>0.000000</td>\n",
              "      <td>1.000000</td>\n",
              "      <td>199.000000</td>\n",
              "      <td>1609.000000</td>\n",
              "      <td>0.000000</td>\n",
              "    </tr>\n",
              "    <tr>\n",
              "      <th>50%</th>\n",
              "      <td>3521.000000</td>\n",
              "      <td>1.000000</td>\n",
              "      <td>0.000000</td>\n",
              "      <td>0.000000</td>\n",
              "      <td>0.000000</td>\n",
              "      <td>29.000000</td>\n",
              "      <td>1.000000</td>\n",
              "      <td>1.000000</td>\n",
              "      <td>1.000000</td>\n",
              "      <td>1.000000</td>\n",
              "      <td>1.000000</td>\n",
              "      <td>1.000000</td>\n",
              "      <td>1.000000</td>\n",
              "      <td>1.000000</td>\n",
              "      <td>1.000000</td>\n",
              "      <td>0.000000</td>\n",
              "      <td>1.000000</td>\n",
              "      <td>2.000000</td>\n",
              "      <td>722.000000</td>\n",
              "      <td>3249.000000</td>\n",
              "      <td>0.000000</td>\n",
              "    </tr>\n",
              "    <tr>\n",
              "      <th>75%</th>\n",
              "      <td>5281.500000</td>\n",
              "      <td>1.000000</td>\n",
              "      <td>0.000000</td>\n",
              "      <td>1.000000</td>\n",
              "      <td>1.000000</td>\n",
              "      <td>55.000000</td>\n",
              "      <td>1.000000</td>\n",
              "      <td>2.000000</td>\n",
              "      <td>1.000000</td>\n",
              "      <td>2.000000</td>\n",
              "      <td>2.000000</td>\n",
              "      <td>2.000000</td>\n",
              "      <td>2.000000</td>\n",
              "      <td>2.000000</td>\n",
              "      <td>2.000000</td>\n",
              "      <td>1.000000</td>\n",
              "      <td>1.000000</td>\n",
              "      <td>2.000000</td>\n",
              "      <td>1090.000000</td>\n",
              "      <td>4901.500000</td>\n",
              "      <td>1.000000</td>\n",
              "    </tr>\n",
              "    <tr>\n",
              "      <th>max</th>\n",
              "      <td>7042.000000</td>\n",
              "      <td>1.000000</td>\n",
              "      <td>1.000000</td>\n",
              "      <td>1.000000</td>\n",
              "      <td>1.000000</td>\n",
              "      <td>72.000000</td>\n",
              "      <td>1.000000</td>\n",
              "      <td>2.000000</td>\n",
              "      <td>2.000000</td>\n",
              "      <td>2.000000</td>\n",
              "      <td>2.000000</td>\n",
              "      <td>2.000000</td>\n",
              "      <td>2.000000</td>\n",
              "      <td>2.000000</td>\n",
              "      <td>2.000000</td>\n",
              "      <td>2.000000</td>\n",
              "      <td>1.000000</td>\n",
              "      <td>3.000000</td>\n",
              "      <td>1584.000000</td>\n",
              "      <td>6530.000000</td>\n",
              "      <td>1.000000</td>\n",
              "    </tr>\n",
              "  </tbody>\n",
              "</table>\n",
              "</div>"
            ],
            "text/plain": [
              "        CustomerID       Gender  ...  TotalCharges  MonthlyChurn\n",
              "count  7043.000000  7043.000000  ...   7043.000000   7043.000000\n",
              "mean   3521.000000     0.504756  ...   3257.794122      0.265370\n",
              "std    2033.283305     0.500013  ...   1888.693496      0.441561\n",
              "min       0.000000     0.000000  ...      0.000000      0.000000\n",
              "25%    1760.500000     0.000000  ...   1609.000000      0.000000\n",
              "50%    3521.000000     1.000000  ...   3249.000000      0.000000\n",
              "75%    5281.500000     1.000000  ...   4901.500000      1.000000\n",
              "max    7042.000000     1.000000  ...   6530.000000      1.000000\n",
              "\n",
              "[8 rows x 21 columns]"
            ]
          },
          "metadata": {
            "tags": []
          },
          "execution_count": 105
        }
      ]
    },
    {
      "cell_type": "markdown",
      "metadata": {
        "id": "RrtXkndTtH4Q",
        "colab_type": "text"
      },
      "source": [
        "# Import data packages for classifiers\n",
        "# Create training and test set"
      ]
    },
    {
      "cell_type": "code",
      "metadata": {
        "id": "mkOFjlPFQRis",
        "colab_type": "code",
        "colab": {}
      },
      "source": [
        "## Import decision tree classifier package and metrics to evaluate on.\n",
        "\n",
        "from sklearn.tree import DecisionTreeClassifier \n",
        "from sklearn.model_selection import train_test_split \n",
        "from sklearn import metrics \n",
        "from sklearn.metrics import f1_score\n",
        "from sklearn.metrics import accuracy_score, f1_score, precision_score, recall_score, classification_report, confusion_matrix\n"
      ],
      "execution_count": 0,
      "outputs": []
    },
    {
      "cell_type": "code",
      "metadata": {
        "id": "9eToof2lQdTI",
        "colab_type": "code",
        "colab": {}
      },
      "source": [
        "predictor_cols = ['Gender', 'SeniorCitizen', 'Partner','Dependents', 'TenureMonths',  'PhoneService',  'MultipleLines',  'InternetService',  'OnlineSecurity', 'OnlineBackup', 'DeviceProtection', 'TechSupport', 'StreamingTV', 'StreamingMovies', 'ContractTerm', 'PaperlessBilling', 'PaymentMethod', 'MonthlyCharges', 'TotalCharges']\n",
        "X = telco[predictor_cols]\n",
        "y = telco.MonthlyChurn"
      ],
      "execution_count": 0,
      "outputs": []
    },
    {
      "cell_type": "code",
      "metadata": {
        "id": "eQK3za08RKDt",
        "colab_type": "code",
        "colab": {}
      },
      "source": [
        "X_train, X_test, y_train, y_test = train_test_split(X, y, test_size=0.2, random_state=1)\n"
      ],
      "execution_count": 0,
      "outputs": []
    },
    {
      "cell_type": "markdown",
      "metadata": {
        "id": "Wv8_coZzQAOL",
        "colab_type": "text"
      },
      "source": [
        "\n",
        "# Decision tree"
      ]
    },
    {
      "cell_type": "code",
      "metadata": {
        "id": "bf9cka30RcZA",
        "colab_type": "code",
        "outputId": "cfdeb73d-7957-4024-fa9b-19f423a0ee81",
        "colab": {
          "base_uri": "https://localhost:8080/",
          "height": 238
        }
      },
      "source": [
        "dtC = DecisionTreeClassifier(criterion=\"entropy\", max_depth=6)\n",
        "\n",
        "dtC = dtC.fit(X_train,y_train)\n",
        "\n",
        "y_pred_dtC = dtC.predict(X_test)\n",
        "\n",
        "print(\"Accuracy of decision tree classifier:\",metrics.accuracy_score(y_test, y_pred_dtC))\n",
        "print('Mean Absolute Error:', metrics.mean_absolute_error(y_test, y_pred_dtC))\n",
        "print(classification_report(y_test,y_pred_dtC))\n",
        "print(confusion_matrix(y_test,y_pred_dtC))"
      ],
      "execution_count": 0,
      "outputs": [
        {
          "output_type": "stream",
          "text": [
            "Accuracy of decision tree classifier: 0.7963094393186657\n",
            "Mean Absolute Error: 0.2036905606813343\n",
            "              precision    recall  f1-score   support\n",
            "\n",
            "           0       0.86      0.87      0.87      1061\n",
            "           1       0.59      0.57      0.58       348\n",
            "\n",
            "    accuracy                           0.80      1409\n",
            "   macro avg       0.73      0.72      0.72      1409\n",
            "weighted avg       0.79      0.80      0.80      1409\n",
            "\n",
            "[[922 139]\n",
            " [148 200]]\n"
          ],
          "name": "stdout"
        }
      ]
    },
    {
      "cell_type": "code",
      "metadata": {
        "id": "0uKuj8zER8MQ",
        "colab_type": "code",
        "colab": {}
      },
      "source": [
        "from sklearn.tree import export_graphviz\n",
        "from sklearn.externals.six import StringIO  \n",
        "from IPython.display import Image  \n",
        "import pydotplus\n",
        "\n",
        "dot_data = StringIO()\n",
        "export_graphviz(dtC, out_file=dot_data,  \n",
        "                filled=True, rounded=True,\n",
        "                special_characters=True,feature_names = predictor_cols,class_names=['churned','retained'])\n",
        "graph = pydotplus.graph_from_dot_data(dot_data.getvalue())  \n",
        "graph.write_png('telcodtC.png')\n",
        "Image(graph.create_png())"
      ],
      "execution_count": 0,
      "outputs": []
    },
    {
      "cell_type": "markdown",
      "metadata": {
        "id": "YweIFRtWVrDI",
        "colab_type": "text"
      },
      "source": [
        "# Random Forest"
      ]
    },
    {
      "cell_type": "code",
      "metadata": {
        "id": "VIzWDEq4R8EX",
        "colab_type": "code",
        "outputId": "562f5cf0-26b1-44f5-9b2e-b1bc6e9d4ea9",
        "colab": {
          "base_uri": "https://localhost:8080/",
          "height": 221
        }
      },
      "source": [
        "from sklearn.ensemble import RandomForestClassifier\n",
        "\n",
        "randomforest = RandomForestClassifier(n_estimators=100, random_state=1)\n",
        "randomforest.fit(X_train, y_train)\n",
        "y_pred_randomforest = randomforest.predict(X_test)\n",
        "\n",
        "\n",
        "from sklearn.metrics import classification_report, confusion_matrix, accuracy_score\n",
        "\n",
        "print(confusion_matrix(y_test,y_pred_randomforest))\n",
        "print(classification_report(y_test,y_pred_randomforest))\n",
        "print(\"Accuracy of random forest classifier:\", accuracy_score(y_test, y_pred_randomforest))"
      ],
      "execution_count": 0,
      "outputs": [
        {
          "output_type": "stream",
          "text": [
            "[[951 110]\n",
            " [158 190]]\n",
            "              precision    recall  f1-score   support\n",
            "\n",
            "           0       0.86      0.90      0.88      1061\n",
            "           1       0.63      0.55      0.59       348\n",
            "\n",
            "    accuracy                           0.81      1409\n",
            "   macro avg       0.75      0.72      0.73      1409\n",
            "weighted avg       0.80      0.81      0.80      1409\n",
            "\n",
            "Accuracy of random forest classifier: 0.8097941802696949\n"
          ],
          "name": "stdout"
        }
      ]
    },
    {
      "cell_type": "markdown",
      "metadata": {
        "id": "DLvkPcskYTRg",
        "colab_type": "text"
      },
      "source": [
        "# Linear SVM"
      ]
    },
    {
      "cell_type": "code",
      "metadata": {
        "id": "IGkog1rbYUs_",
        "colab_type": "code",
        "outputId": "0a9fd056-a347-49c7-aa79-60d640d4893d",
        "colab": {
          "base_uri": "https://localhost:8080/",
          "height": 221
        }
      },
      "source": [
        "from sklearn.svm import SVC\n",
        "svclassifier = SVC(kernel='linear')\n",
        "svclassifier.fit(X_train, y_train)\n",
        "\n",
        "y_pred_SVM = svclassifier.predict(X_test)\n",
        "\n",
        "print(confusion_matrix(y_test,y_pred_SVM))\n",
        "print(classification_report(y_test,y_pred_SVM))\n",
        "print(\"Accuracy of SVM classifier:\", accuracy_score(y_test, y_pred_SVM))"
      ],
      "execution_count": 0,
      "outputs": [
        {
          "output_type": "stream",
          "text": [
            "[[941 120]\n",
            " [154 194]]\n",
            "              precision    recall  f1-score   support\n",
            "\n",
            "           0       0.86      0.89      0.87      1061\n",
            "           1       0.62      0.56      0.59       348\n",
            "\n",
            "    accuracy                           0.81      1409\n",
            "   macro avg       0.74      0.72      0.73      1409\n",
            "weighted avg       0.80      0.81      0.80      1409\n",
            "\n",
            "Accuracy of SVM classifier: 0.8055358410220014\n"
          ],
          "name": "stdout"
        }
      ]
    },
    {
      "cell_type": "markdown",
      "metadata": {
        "id": "I3LE70moYUVA",
        "colab_type": "text"
      },
      "source": [
        "Kernel SVM"
      ]
    },
    {
      "cell_type": "code",
      "metadata": {
        "id": "8AOpZaCCYrl-",
        "colab_type": "code",
        "outputId": "f1fb86e8-a3a1-4606-cd00-fba6710d7bbf",
        "colab": {
          "base_uri": "https://localhost:8080/",
          "height": 309
        }
      },
      "source": [
        "from sklearn.svm import SVC\n",
        "svclassifier = SVC(kernel='poly', degree=8)\n",
        "svclassifier.fit(X_train, y_train)\n",
        "\n",
        "y_pred_SVC = svclassifier.predict(X_test)\n",
        "\n",
        "print(confusion_matrix(y_test,y_pred_SVC))\n",
        "print(classification_report(y_test,y_pred_SVC))\n",
        "print(\"Accuracy of SVC classifier:\", accuracy_score(y_test, y_pred_SVC))"
      ],
      "execution_count": 0,
      "outputs": [
        {
          "output_type": "stream",
          "text": [
            "[[   0 1061]\n",
            " [   0  348]]\n",
            "              precision    recall  f1-score   support\n",
            "\n",
            "           0       0.00      0.00      0.00      1061\n",
            "           1       0.25      1.00      0.40       348\n",
            "\n",
            "    accuracy                           0.25      1409\n",
            "   macro avg       0.12      0.50      0.20      1409\n",
            "weighted avg       0.06      0.25      0.10      1409\n",
            "\n",
            "Accuracy of SVC classifier: 0.24698367636621718\n"
          ],
          "name": "stdout"
        },
        {
          "output_type": "stream",
          "text": [
            "/usr/local/lib/python3.6/dist-packages/sklearn/svm/base.py:193: FutureWarning: The default value of gamma will change from 'auto' to 'scale' in version 0.22 to account better for unscaled features. Set gamma explicitly to 'auto' or 'scale' to avoid this warning.\n",
            "  \"avoid this warning.\", FutureWarning)\n",
            "/usr/local/lib/python3.6/dist-packages/sklearn/metrics/classification.py:1437: UndefinedMetricWarning: Precision and F-score are ill-defined and being set to 0.0 in labels with no predicted samples.\n",
            "  'precision', 'predicted', average, warn_for)\n"
          ],
          "name": "stderr"
        }
      ]
    }
  ]
}