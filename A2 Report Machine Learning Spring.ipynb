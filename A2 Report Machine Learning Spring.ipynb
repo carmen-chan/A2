{
  "nbformat": 4,
  "nbformat_minor": 0,
  "metadata": {
    "kernelspec": {
      "display_name": "Python 3",
      "language": "python",
      "name": "python3"
    },
    "language_info": {
      "codemirror_mode": {
        "name": "ipython",
        "version": 3
      },
      "file_extension": ".py",
      "mimetype": "text/x-python",
      "name": "python",
      "nbconvert_exporter": "python",
      "pygments_lexer": "ipython3",
      "version": "3.7.3"
    },
    "colab": {
      "name": "A2 Machine Learning Spring.ipynb",
      "provenance": []
    }
  },
  "cells": [
    {
      "cell_type": "markdown",
      "metadata": {
        "id": "xcKxPeGdaPSr",
        "colab_type": "text"
      },
      "source": [
        "\n",
        "# Introduction\n",
        "\n",
        "*Define Problem - Why is it significant*\n",
        "\n",
        "The world of telecommunications is changing - mobile phones and the accessibility of mobile data has changed what companies can offer and what customers value. As the world becomes more interconnected customers have higher demands for internet service and lowered use of traditional phones. Due to this shift, new companies are emerging that offer low prices on data only plans which threaten the traditional telecommunication companies (telco). As competition grows retaining current customers is increasingly important - understanding what different customers are using in a telco service and what are important to offer can help telco companies personalise a customers experience. \n",
        "\n",
        "This report examines a telco dataset of 7043 customers with 19 attributes that include customer information and service subscriptions with the target variable 'churn' which is the monthly retention rates. Using machine learning algorithms we will classify which customers will churn or be retained which demonstrates the type of customers that are satisfied with their service and those who are not so we may learn from them to increase retention. \n",
        "\n",
        "\n"
      ]
    },
    {
      "cell_type": "markdown",
      "metadata": {
        "id": "MIeDo_3Bagjo",
        "colab_type": "text"
      },
      "source": [
        "# Exploration\n",
        "\n",
        "\n",
        "\n",
        "*Identify challenges - what are we going to need to do for this assignment to make this work*\n",
        "\n",
        "*Design Data Structures - ?*\n",
        "\n",
        "*Plan Data Models/Tests - Is that like the algorithms etc?*\n",
        "\n",
        "\n",
        "*Visualisation and explanation of the dataset*\n",
        "\n",
        "\n",
        "\n",
        "* Use KNIME/Tableau/Excel to visualise and explore data\n",
        "  * Mean Mode Median\n",
        "  * Relationships - linear correlation matrix\n",
        "  * Unbalanced Churn attribute\n",
        "  * Essentially Assignment 2 in IDA\n",
        "* Understand different attributes and how they work with different algorithms\n",
        "* Look at different algorithms (models) and what they will require - why do they suit this problem, what they do?\n",
        "* Preparing data to go into model - how why\n",
        "\n",
        "\n",
        "The telco dataset used in this report comes from the website Kaggle - it is uploaded by BlastChur and includes 21 attributes and 7043 rows. \n",
        "\n",
        "Below is a brief summary of each attribute and how they are distributed:\n",
        "\n",
        "*   *'Gender'* - string(object) - Slightly more males than females \n",
        "*   *'Senior Citizen'* - Binary - Significantly less senior citizens in dataset\n",
        "* *'Partner'* - String(object) -  48.3% have a partner, 51.7% do not have a partner\n",
        "* *'Dependents'* - String(object) - only 29.96% have dependents\n",
        "* *'Tenure'* - Float(int64) - fairly normally distrubted, slightly right skewed\n",
        "\n",
        "![Graph of Tenure with right skew](https://imgur.com/QD57TDE)\n",
        "* *'Phone Service'* - String(object) - Only 10% do NOT have a phone service\n",
        "* *'MutlipleLines'* - String(object) - 48% do not have multiple lines\n",
        "* *'InternetService'* - String(object) - 43.9% Fibre Optic, 34.4% DSL and 21.7% have none\n",
        "* *'Online Security'* - String(object) - 28.7% Do, 49.67% do not, remaining have no internet\n",
        "* *'OnlineBackup'* - String(object) -  34.5% do, 43.8 Do not\n",
        "* *'DeviceProtection'* - String(object) - 34.4% do, 43.9 do not\n",
        "* *'TechSupport'* - String(object) - 29% do, 49.3 don't\n",
        "* *'StreamingTV'* - String(object) - 38.4% do, 39.9% don't\n",
        "* *'StreamingMovies'* - String(object) - 38.8% do, 39.5% don't\n",
        "* *'Contract'* - String(object) - 55% Month to Month, 20.9% One year, 24% Two year\n",
        "* *'PaperlessBilling'* - String(object) - 59.2% yes\n",
        "* *'Payment Method'* - String(object) - 21.9% AutoBank, 21.6% CreditCardAuto, 33.6% Electronic check, 22.9% Mailed Check\n",
        "* *'MonthlyCharges'* - Float(int64) - Fairly normally distributed iwth a slight left skew\n",
        "* *'Totalcharges'* - Float(int64) - Strong right skew\n",
        "* *'Churn'* - Skewed target data so accuracy statistic won't be really useful - need F score instead. 73.46% is No (as in retained) and 26.54% is yes (as in lost)\n",
        "\n",
        "\n",
        "\n",
        "Correlation\n",
        "* *'StreamingTV correlates'* strongly with Device *'Protection'* (0.76), *'InternetService'* (0.71) and *'OnlineSecurity'* (0.7) \n",
        "* StreamingMovie correlates strongly with *'DeviceProtection'* (0.77), *'InternetService'* (0.71) and *'OnlineSecurity'* (0.7)\n",
        "* *'StreamingMovies'* and *'StreamingTV'* correlate strongly with each other (0.83)\n",
        "* *'Totalcharges'* correlates strongly with *'Tenure'* (0.81) \n",
        "* *'Onlinesecurity'* correlates with *'TechSupport'* (0.79) \n",
        "* *'Onlinebackup'* correlates with *'MonthlyCharges'* (-0.71)\n",
        "* \n",
        "\n"
      ]
    },
    {
      "cell_type": "code",
      "metadata": {
        "id": "VnHUvuLrcAzq",
        "colab_type": "code",
        "colab": {}
      },
      "source": [
        ""
      ],
      "execution_count": 0,
      "outputs": []
    },
    {
      "cell_type": "markdown",
      "metadata": {
        "id": "q7P34wGXav6t",
        "colab_type": "text"
      },
      "source": [
        "# Methodology\n",
        "\n",
        "*Implement Algorithms - buid and train data models*\n",
        "\n",
        "How we did it\n",
        "\n",
        "What challenges did we encounter\n",
        "\n",
        "How did we solve those\n",
        "\n",
        "What we ended up with\n",
        "\n",
        "\n",
        "* **Data Cleaning** \n",
        "  * Renamed the columns for easier readability\n",
        "  * Used LabelEncoder to make string variables into categories\n",
        "  * Normalised through Standard Scaler TotalCharges, MonthlyCharges, TenureMonths and appended it\n",
        "* **Split Data**\n",
        "  * Predictor Columns inputted -  '\n",
        "    * Gender', 'SeniorCitizen', 'Partner','Dependents', 'TenureMonths_Normalised',  'PhoneService',  'MultipleLines',  'InternetService',  'OnlineSecurity', 'OnlineBackup', 'DeviceProtection', 'TechSupport', 'StreamingTV', 'StreamingMovies', 'ContractTerm', 'PaperlessBilling', 'PaymentMethod', 'MonthlyCharges_Normalised', 'TotalCharges_Normalised'\n",
        "  * Set target column as Monthly Churn\n",
        "  * Split into 80% into training and 20% into test sets for data\n",
        "\n",
        "* **Classifiers** \n",
        "  * Used online tutorials for how to build them and adjusted them to work for this dataset. \n",
        "* **Decision Tree**\n",
        "  * Made it with a max depth of 6 - produced best results \n",
        "  * Criterion = entropy ? whavever that means\n",
        "* **Random Forest**\n",
        "  * N estimators = 100\n",
        "  * Random_state = 1\n",
        "* **Linear SVM**\n",
        "* **Kernal SVM**\n",
        "  * These both didn't work at first but once the others were normalised it has started to work - yay!\n",
        "* **Neural Network**\n",
        "  * Tried failed will try again later "
      ]
    },
    {
      "cell_type": "code",
      "metadata": {
        "id": "_I3MFEPSbCXP",
        "colab_type": "code",
        "colab": {}
      },
      "source": [
        "from sklearn.tree import DecisionTreeClassifier \n",
        "dtC = DecisionTreeClassifier(criterion=\"entropy\", max_depth=6)\n",
        "\n",
        "dtC = dtC.fit(X_train,y_train)\n",
        "\n",
        "y_pred_dtC = dtC.predict(X_test)\n",
        "\n",
        "print('Weighted F1 Score', f1_score(y_test, y_pred_dtC, average='weighted') )\n",
        "print(\"Accuracy of decision tree classifier:\",metrics.accuracy_score(y_test, y_pred_dtC))\n",
        "print('Mean Absolute Error:', metrics.mean_absolute_error(y_test, y_pred_dtC))\n",
        "print(classification_report(y_test,y_pred_dtC))\n",
        "print(confusion_matrix(y_test,y_pred_dtC))"
      ],
      "execution_count": 0,
      "outputs": []
    },
    {
      "cell_type": "markdown",
      "metadata": {
        "id": "R86QjB_4bE1g",
        "colab_type": "text"
      },
      "source": [
        "# Evaluation\n",
        "*Report execution on data?*\n",
        "\n",
        "*Perform and report testing*\n",
        "\n",
        "*Perform efficiency analysis*\n",
        "\n",
        "*Do possible comparative study*\n",
        "\n",
        "\n",
        "\n",
        "*   Report the accuracy stats\n",
        "*   How do we do an efficiency analysis? GOogle to get output on computational cost and time taken to create\n",
        "* Comparison fairly straight forward I assume\n",
        "* Execution - what do you see as an outcome\n",
        "\n",
        "**Execution - what happened**\n",
        "* Initially a lot of the cells had errors and however now they all run since the data has been cleaned up a lot more. \n",
        "* Each printed the classification report \n",
        "\n",
        "\n",
        "**Accuracy stats**\n",
        "\n",
        "* Need to use F1 score as the target isn't balanced\n",
        "* Decision Tree - 0.7954053519036592\n",
        "* *Random Forest - 0.8202317922734982*\n",
        "* Linear SVM - 0.8002769583555663\n",
        "* Kernel SVM - 0.7475030683876639\n",
        "\n",
        "\n",
        "**Efficiency - time for each to execute**\n",
        "* Decision Tree - 0.14952842057000454\n",
        "* Random Forest - 0.6895580111799973\n",
        "* Linear SVM - 1.2340110431299944\n",
        "* Kernel SVM - 1.787700364480006"
      ]
    },
    {
      "cell_type": "code",
      "metadata": {
        "id": "vC7l_wXWauN8",
        "colab_type": "code",
        "colab": {}
      },
      "source": [
        "#Testing "
      ],
      "execution_count": 0,
      "outputs": []
    },
    {
      "cell_type": "markdown",
      "metadata": {
        "id": "Fm_bRbnsbU_V",
        "colab_type": "text"
      },
      "source": [
        "# Conclusion\n",
        "\n",
        "*Reflections and improvements*"
      ]
    },
    {
      "cell_type": "markdown",
      "metadata": {
        "id": "f5x0QRPbbaUs",
        "colab_type": "text"
      },
      "source": [
        "# Ethics\n",
        "\n",
        "Which ethical approach, what are misuses of this technique. \n",
        "\n",
        "Perhaps sitting somewhere between Deonotological Duty Based Ethics and Utilitarianism ? Which kinda contradict each other lmao :) \n",
        "\n",
        "The idea that yes some things are definitely wrong and there is a principle to the 'thing' in the sense that there is a duty to the right thing even if it doesn't help everyone (aka ruins a business). However consequences shouldn't be ignored completely as that's still important as doing the right thing in a business setting might not be right in a human setting. Considering the consequence of the 'right' should still be considered but if it is the right thing we should do so. \n",
        "\n",
        "\n",
        "*From website - http://www.bbc.co.uk/ethics/introduction/duty_1.shtml* \n",
        "\n",
        "> Duty-based or Deontological ethics\n",
        "Deontological (duty-based) ethics are concerned with what people do, not with the consequences of their actions.\n",
        "\n",
        "> Do the right thing.\n",
        "Do it because it's the right thing to do.\n",
        "Don't do wrong things.\n",
        "Avoid them because they are wrong.\n",
        "Under this form of ethics you can't justify an action by showing that it produced good consequences, which is why it's sometimes called 'non-Consequentialist'.\n",
        "\n",
        "\n",
        "> Duty-based ethics are usually what people are talking about when they refer to 'the principle of the thing'. Duty-based ethics teaches that some acts are right or wrong because of the sorts of things they are, and people have a duty to act accordingly, regardless of the good or bad consequences that may be produced. Someone who follows Duty-based ethics should do the right thing, even if that produces more harm (or less good) than doing the wrong thing:\n",
        "\n",
        "> People have a duty to do the right thing, even if it produces a bad result. So, for example, the philosopher Kant thought that it would be wrong to tell a lie in order to save a friend from a murderer. \n",
        "\n",
        "> If we compare Deontologists with Consequentialists we can see that Consequentialists begin by considering what things are good, and identify 'right' actions as the ones that produce the maximum of those good things.\n",
        "Deontologists appear to do it the other way around; they first consider what actions are 'right' and proceed from there. (Actually this is what they do in practice, but it isn't really the starting point of deontological thinking.)\n",
        "\n",
        "> So a person is doing something good if they are doing a morally right action.\n",
        "\n",
        "\n",
        "**Misuse of method/thing**\n",
        "We are predicting if a customer will leave a company. \n",
        "* Poach other customers \n",
        " "
      ]
    },
    {
      "cell_type": "markdown",
      "metadata": {
        "id": "aRYEier9jZbp",
        "colab_type": "text"
      },
      "source": [
        "**Video - 3-5 mins- Can just be ppt with voice over :)**"
      ]
    }
  ]
}