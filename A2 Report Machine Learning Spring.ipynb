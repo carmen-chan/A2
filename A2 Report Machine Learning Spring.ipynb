{
  "nbformat": 4,
  "nbformat_minor": 0,
  "metadata": {
    "kernelspec": {
      "display_name": "Python 3",
      "language": "python",
      "name": "python3"
    },
    "language_info": {
      "codemirror_mode": {
        "name": "ipython",
        "version": 3
      },
      "file_extension": ".py",
      "mimetype": "text/x-python",
      "name": "python",
      "nbconvert_exporter": "python",
      "pygments_lexer": "ipython3",
      "version": "3.7.3"
    },
    "colab": {
      "name": "A2 Machine Learning Spring.ipynb",
      "provenance": []
    }
  },
  "cells": [
    {
      "cell_type": "markdown",
      "metadata": {
        "id": "xcKxPeGdaPSr",
        "colab_type": "text"
      },
      "source": [
        "\n",
        "# Introduction\n",
        "\n",
        "*Define Problem - Why is it significant*\n"
      ]
    },
    {
      "cell_type": "markdown",
      "metadata": {
        "id": "MIeDo_3Bagjo",
        "colab_type": "text"
      },
      "source": [
        "# Exploration\n",
        "\n",
        "*Identify challenges - what are we going to need to do for this assignment to make this work*\n",
        "\n",
        "*Design Data Structures - ?*\n",
        "\n",
        "*Plan Data Models/Tests - Is that like the algorithms etc?*\n",
        "\n",
        "\n",
        "*Visualisation and explanation of the dataset*\n",
        "\n",
        "\n",
        "\n",
        "* Use KNIME/Tableau/Excel to visualise and explore data\n",
        "  * Mean Mode Median\n",
        "  * Relationships - linear correlation matrix\n",
        "  * Unbalanced Churn attribute\n",
        "  * Essentially Assignment 2 in IDA\n",
        "* Understand different attributes and how they work with different algorithms\n",
        "* Look at different algorithms (models) and what they will require - why do they suit this problem, what they do?\n",
        "* Preparing data to go into model - how why\n",
        "\n",
        "\n",
        "Attributes - \n",
        "\n",
        "\n",
        "*   Gender - string(object) - Slightly more males than females \n",
        "*   Senior Citizen - Binary - Significantly less senior citizens in dataset\n",
        "* Partner - String(object) -  3% more do not have a partner\n",
        "* Dependents - String(object) - only 29.96% have dependents\n",
        "* Tenure - Float(int64) - fairly normally distrubted, slightly right skewed\n",
        "* Phone Service - String(object) - Only 10% do NOT have a phone service\n",
        "* Mutliple Lines - String(object) - 48% do not have multiple lines\n",
        "* Internet Service - String(object) - 43.9% Fibre Optic, 34.4% DSL and 21.7% have none\n",
        "* Online Security - String(object) - 28.7% Do, 49.67% do not, remaining have no internet\n",
        "* Online Backup - String(object) -  34.5% do, 43.8 Do not\n",
        "* Device Protection - String(object) - 34.4% do, 43.9 do not\n",
        "* TechSupport - String(object) - 29% do, 49.3 don't\n",
        "* StreamingTV - String(object) - 38.4% do, 39.9% don't\n",
        "* StreamingMovies - String(object) - 38.8% do, 39.5% don't\n",
        "* Contract - String(object) - 55% Month to Month, 20.9% One year, 24% Two year\n",
        "* PaperlessBilling - String(object) - 59.2% yes\n",
        "* Payment Method - String(object) - 21.9% AutoBank, 21.6% CreditCardAuto, 33.6% Electronic check, 22.9% Mailed Check\n",
        "* MonthlyCharges - Float(int64) - Fairly normally distributed iwth a slight left skew\n",
        "* Totalcharges - Float(int64) - Strong right skew\n",
        "* Churn - Skewed target data so accuracy statistic won't be really useful - need F score instead. 73.46% is No (as in retained) and 26.54% is yes (as in lost)\n",
        "\n",
        "* Streaming TV correlates strongly with Device Protection (0.76), InternetService (0.71) and Online Security (0.7) \n",
        "* Streaming Movie correlates strongly with Device Protection (0.77), InternetService (0.71) and Online Security (0.7)\n",
        "* Streaming Movies and TV Correlate strongly with each other (0.83)\n",
        "* Total charges correlates strongly with Tenure (0.81) \n",
        "* Online security correlates with Tech Support (0.79) and Tech Support (0.79)\n",
        "* Online back up correlates with monthly charges (-0.71)\n",
        "* \n",
        "\n"
      ]
    },
    {
      "cell_type": "code",
      "metadata": {
        "id": "VnHUvuLrcAzq",
        "colab_type": "code",
        "colab": {}
      },
      "source": [
        ""
      ],
      "execution_count": 0,
      "outputs": []
    },
    {
      "cell_type": "markdown",
      "metadata": {
        "id": "q7P34wGXav6t",
        "colab_type": "text"
      },
      "source": [
        "# Methodology\n",
        "\n",
        "*Implement Algorithms - buid and train data models*\n",
        "\n",
        "How we did it\n",
        "\n",
        "What challenges did we encounter\n",
        "\n",
        "How did we solve those\n",
        "\n",
        "What we ended up with"
      ]
    },
    {
      "cell_type": "code",
      "metadata": {
        "id": "_I3MFEPSbCXP",
        "colab_type": "code",
        "colab": {}
      },
      "source": [
        "#Data models"
      ],
      "execution_count": 0,
      "outputs": []
    },
    {
      "cell_type": "markdown",
      "metadata": {
        "id": "R86QjB_4bE1g",
        "colab_type": "text"
      },
      "source": [
        "# Evaluation\n",
        "*Report execution on data?*\n",
        "\n",
        "*Perform and report testing*\n",
        "\n",
        "*Perform efficiency analysis*\n",
        "\n",
        "*Do possible comparative study*\n",
        "\n",
        "\n",
        "\n",
        "*   Report the accuracy stats\n",
        "*   How do we do an efficiency analysis? GOogle to get output on computational cost and time taken to create\n",
        "* Comparison fairly straight forward I assume\n",
        "* Execution - what do you see as an outcome\n",
        "\n"
      ]
    },
    {
      "cell_type": "code",
      "metadata": {
        "id": "vC7l_wXWauN8",
        "colab_type": "code",
        "colab": {}
      },
      "source": [
        "#Testing "
      ],
      "execution_count": 0,
      "outputs": []
    },
    {
      "cell_type": "markdown",
      "metadata": {
        "id": "Fm_bRbnsbU_V",
        "colab_type": "text"
      },
      "source": [
        "# Conclusion\n",
        "\n",
        "*Reflections and improvements*"
      ]
    },
    {
      "cell_type": "markdown",
      "metadata": {
        "id": "f5x0QRPbbaUs",
        "colab_type": "text"
      },
      "source": [
        "# Ethics\n",
        "\n",
        "Which ethical approach, what are misuses of this technique. "
      ]
    },
    {
      "cell_type": "markdown",
      "metadata": {
        "id": "aRYEier9jZbp",
        "colab_type": "text"
      },
      "source": [
        "**Video - 3-5 mins- Can just be ppt with voice over :)**"
      ]
    }
  ]
}
