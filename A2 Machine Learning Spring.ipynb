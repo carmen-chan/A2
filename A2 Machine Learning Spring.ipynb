{
  "nbformat": 4,
  "nbformat_minor": 0,
  "metadata": {
    "kernelspec": {
      "display_name": "Python 3",
      "language": "python",
      "name": "python3"
    },
    "language_info": {
      "codemirror_mode": {
        "name": "ipython",
        "version": 3
      },
      "file_extension": ".py",
      "mimetype": "text/x-python",
      "name": "python",
      "nbconvert_exporter": "python",
      "pygments_lexer": "ipython3",
      "version": "3.7.3"
    },
    "colab": {
      "name": "A2 Machine Learning Spring.ipynb",
      "provenance": []
    }
  },
  "cells": [
    {
      "cell_type": "markdown",
      "metadata": {
        "id": "xcKxPeGdaPSr",
        "colab_type": "text"
      },
      "source": [
        "\n",
        "# Introduction\n",
        "\n",
        "*Define Problem - Why is it significant*\n"
      ]
    },
    {
      "cell_type": "markdown",
      "metadata": {
        "id": "MIeDo_3Bagjo",
        "colab_type": "text"
      },
      "source": [
        "# Exploration\n",
        "\n",
        "*Identify challenges - what are we going to need to do for this assignment to make this work*\n",
        "\n",
        "*Design Data Structures - ?*\n",
        "\n",
        "*Plan Data Models/Tests - Is that like the algorithms etc?*\n",
        "\n",
        "\n",
        "*Visualisation and explanation of the dataset*\n",
        "\n",
        "\n",
        "\n",
        "* Use KNIME/Tableau/Excel to visualise and explore data\n",
        "  * Mean Mode Median\n",
        "  * Relationships - linear correlation matrix\n",
        "  * Unbalanced Churn attribute\n",
        "  * Essentially Assignment 2 in IDA\n",
        "* Understand different attributes and how they work with different algorithms\n",
        "* Look at different algorithms (models) and what they will require - why do they suit this problem, what they do?\n",
        "* Preparing data to go into model - how why\n",
        "\n",
        "\n",
        "\n"
      ]
    },
    {
      "cell_type": "code",
      "metadata": {
        "id": "VnHUvuLrcAzq",
        "colab_type": "code",
        "colab": {}
      },
      "source": [
        "#Designed Data Structures\n",
        "#Data models and tests"
      ],
      "execution_count": 0,
      "outputs": []
    },
    {
      "cell_type": "markdown",
      "metadata": {
        "id": "q7P34wGXav6t",
        "colab_type": "text"
      },
      "source": [
        "# Methodology\n",
        "\n",
        "*Implement Algorithms - buid and train data models*\n",
        "\n",
        "How we did it\n",
        "\n",
        "What challenges did we encounter\n",
        "\n",
        "How did we solve those\n",
        "\n",
        "What we ended up with"
      ]
    },
    {
      "cell_type": "code",
      "metadata": {
        "id": "_I3MFEPSbCXP",
        "colab_type": "code",
        "colab": {}
      },
      "source": [
        "#Data models"
      ],
      "execution_count": 0,
      "outputs": []
    },
    {
      "cell_type": "markdown",
      "metadata": {
        "id": "R86QjB_4bE1g",
        "colab_type": "text"
      },
      "source": [
        "# Evaluation\n",
        "*Report execution on data?*\n",
        "\n",
        "*Perform and report testing*\n",
        "\n",
        "*Perform efficiency analysis*\n",
        "\n",
        "*Do possible comparative study*\n",
        "\n",
        "\n",
        "\n",
        "*   Report the accuracy stats\n",
        "*   How do we do an efficiency analysis? GOogle to get output on computational cost and time taken to create\n",
        "* Comparison fairly straight forward I assume\n",
        "* Execution - what do you see as an outcome\n",
        "\n"
      ]
    },
    {
      "cell_type": "code",
      "metadata": {
        "id": "vC7l_wXWauN8",
        "colab_type": "code",
        "colab": {}
      },
      "source": [
        "#Testing "
      ],
      "execution_count": 0,
      "outputs": []
    },
    {
      "cell_type": "markdown",
      "metadata": {
        "id": "Fm_bRbnsbU_V",
        "colab_type": "text"
      },
      "source": [
        "# Conclusion\n",
        "\n",
        "*Reflections and improvements*"
      ]
    },
    {
      "cell_type": "markdown",
      "metadata": {
        "id": "f5x0QRPbbaUs",
        "colab_type": "text"
      },
      "source": [
        "# Ethics\n",
        "\n",
        "Which ethical approach, what are misuses of this technique. "
      ]
    },
    {
      "cell_type": "markdown",
      "metadata": {
        "id": "aRYEier9jZbp",
        "colab_type": "text"
      },
      "source": [
        "**Video - 3-5 mins- Can just be ppt with voice over :)**"
      ]
    }
  ]
}